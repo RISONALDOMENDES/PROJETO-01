{
 "cells": [
  {
   "cell_type": "markdown",
   "metadata": {},
   "source": [
    "AULA 03\n",
    "\n",
    "coletando dados"
   ]
  },
  {
   "cell_type": "code",
   "execution_count": 1,
   "metadata": {},
   "outputs": [
    {
     "ename": "KeyboardInterrupt",
     "evalue": "",
     "output_type": "error",
     "traceback": [
      "\u001b[1;31m---------------------------------------------------------------------------\u001b[0m",
      "\u001b[1;31mKeyboardInterrupt\u001b[0m                         Traceback (most recent call last)",
      "Cell \u001b[1;32mIn[1], line 2\u001b[0m\n\u001b[0;32m      1\u001b[0m \u001b[38;5;28;01mimport\u001b[39;00m \u001b[38;5;21;01msqlite3\u001b[39;00m\n\u001b[1;32m----> 2\u001b[0m \u001b[38;5;28;01mimport\u001b[39;00m \u001b[38;5;21;01mpandas\u001b[39;00m \u001b[38;5;28;01mas\u001b[39;00m \u001b[38;5;21;01mpd\u001b[39;00m\n\u001b[0;32m      4\u001b[0m conn \u001b[38;5;241m=\u001b[39m sqlite3\u001b[38;5;241m.\u001b[39mconnect(\u001b[38;5;124m'\u001b[39m\u001b[38;5;124mdatabase.db\u001b[39m\u001b[38;5;124m'\u001b[39m)\n",
      "File \u001b[1;32mc:\\Users\\Risonaldo\\AppData\\Local\\Programs\\Python\\Python312\\Lib\\site-packages\\pandas\\__init__.py:24\u001b[0m\n\u001b[0;32m     22\u001b[0m \u001b[38;5;28;01mfor\u001b[39;00m _dependency \u001b[38;5;129;01min\u001b[39;00m _hard_dependencies:\n\u001b[0;32m     23\u001b[0m     \u001b[38;5;28;01mtry\u001b[39;00m:\n\u001b[1;32m---> 24\u001b[0m         \u001b[38;5;28;43m__import__\u001b[39;49m\u001b[43m(\u001b[49m\u001b[43m_dependency\u001b[49m\u001b[43m)\u001b[49m\n\u001b[0;32m     25\u001b[0m     \u001b[38;5;28;01mexcept\u001b[39;00m \u001b[38;5;167;01mImportError\u001b[39;00m \u001b[38;5;28;01mas\u001b[39;00m _e:  \u001b[38;5;66;03m# pragma: no cover\u001b[39;00m\n\u001b[0;32m     26\u001b[0m         _missing_dependencies\u001b[38;5;241m.\u001b[39mappend(\u001b[38;5;124mf\u001b[39m\u001b[38;5;124m\"\u001b[39m\u001b[38;5;132;01m{\u001b[39;00m_dependency\u001b[38;5;132;01m}\u001b[39;00m\u001b[38;5;124m: \u001b[39m\u001b[38;5;132;01m{\u001b[39;00m_e\u001b[38;5;132;01m}\u001b[39;00m\u001b[38;5;124m\"\u001b[39m)\n",
      "File \u001b[1;32m<frozen importlib._bootstrap>:1360\u001b[0m, in \u001b[0;36m_find_and_load\u001b[1;34m(name, import_)\u001b[0m\n",
      "File \u001b[1;32m<frozen importlib._bootstrap>:1322\u001b[0m, in \u001b[0;36m_find_and_load_unlocked\u001b[1;34m(name, import_)\u001b[0m\n",
      "File \u001b[1;32m<frozen importlib._bootstrap>:1262\u001b[0m, in \u001b[0;36m_find_spec\u001b[1;34m(name, path, target)\u001b[0m\n",
      "File \u001b[1;32m<frozen importlib._bootstrap_external>:1524\u001b[0m, in \u001b[0;36mfind_spec\u001b[1;34m(cls, fullname, path, target)\u001b[0m\n",
      "File \u001b[1;32m<frozen importlib._bootstrap_external>:1498\u001b[0m, in \u001b[0;36m_get_spec\u001b[1;34m(cls, fullname, path, target)\u001b[0m\n",
      "File \u001b[1;32m<frozen importlib._bootstrap_external>:1597\u001b[0m, in \u001b[0;36mfind_spec\u001b[1;34m(self, fullname, target)\u001b[0m\n",
      "File \u001b[1;32m<frozen importlib._bootstrap_external>:147\u001b[0m, in \u001b[0;36m_path_stat\u001b[1;34m(path)\u001b[0m\n",
      "\u001b[1;31mKeyboardInterrupt\u001b[0m: "
     ]
    }
   ],
   "source": [
    "import sqlite3\n",
    "import pandas as pd\n",
    "\n",
    "conn = sqlite3.connect('database.db')"
   ]
  },
  {
   "cell_type": "code",
   "execution_count": null,
   "metadata": {},
   "outputs": [],
   "source": [
    "# consulta dos dados nos bancos de dados\n",
    "consulta_atividade = \"\"\"\n",
    "    SELECT\n",
    "        *\n",
    "    FROM\n",
    "       flight_activity fa LEFT JOIN flight_loyalty_history flh ON (fa.loyalty_number = flh.loyalty_number)  \n",
    "\n",
    "\"\"\"\n",
    "\n",
    "df_atividade = pd.read_sql_query(consulta_atividade, conn)\n",
    "\n",
    "\n",
    "\n",
    "df_atividade.head()"
   ]
  },
  {
   "cell_type": "markdown",
   "metadata": {},
   "source": [
    "4.0 PREPARAÇÃO DOS DADOS"
   ]
  },
  {
   "cell_type": "code",
   "execution_count": 8,
   "metadata": {},
   "outputs": [
    {
     "data": {
      "text/plain": [
       "year                       0\n",
       "month                      0\n",
       "flights_booked             0\n",
       "flights_with_companions    0\n",
       "total_flights              0\n",
       "distance                   0\n",
       "points_accumulated         0\n",
       "salary                     0\n",
       "loyalty_card               0\n",
       "dtype: int64"
      ]
     },
     "execution_count": 8,
     "metadata": {},
     "output_type": "execute_result"
    }
   ],
   "source": [
    "# numeros de dados faltantes de cada coluna\n",
    "df_atividade.isna().sum()\n",
    "\n",
    "#selecionar somente as colunas que contem numweros\n",
    "colunas = [\"year\",\t\"month\", \"flights_booked\", \"flights_with_companions\",\n",
    "           \"total_flights\", \"distance\", \"points_accumulated\", \"salary\", \"loyalty_card\"]\n",
    "\n",
    "df_colunas_numericas = df_atividade.loc[:, colunas]\n",
    "\n",
    "#remover as linhas quw contem dados faltantes\n",
    "df_dados_completos = df_colunas_numericas.dropna()\n",
    "#verificar se exisatemn  daDOS faltasntes\n",
    "\n",
    "df_dados_completos.isna().sum()"
   ]
  },
  {
   "cell_type": "code",
   "execution_count": 9,
   "metadata": {},
   "outputs": [
    {
     "data": {
      "text/plain": [
       "302952"
      ]
     },
     "execution_count": 9,
     "metadata": {},
     "output_type": "execute_result"
    }
   ],
   "source": [
    "df_dados_completos.shape[0]"
   ]
  },
  {
   "cell_type": "code",
   "execution_count": 10,
   "metadata": {},
   "outputs": [
    {
     "name": "stdout",
     "output_type": "stream",
     "text": [
      "<class 'pandas.core.frame.DataFrame'>\n",
      "RangeIndex: 405624 entries, 0 to 405623\n",
      "Data columns (total 26 columns):\n",
      " #   Column                       Non-Null Count   Dtype  \n",
      "---  ------                       --------------   -----  \n",
      " 0   loyalty_number               405624 non-null  int64  \n",
      " 1   year                         405624 non-null  int64  \n",
      " 2   month                        405624 non-null  int64  \n",
      " 3   flights_booked               405624 non-null  int64  \n",
      " 4   flights_with_companions      405624 non-null  int64  \n",
      " 5   total_flights                405624 non-null  int64  \n",
      " 6   distance                     405624 non-null  int64  \n",
      " 7   points_accumulated           405624 non-null  float64\n",
      " 8   points_redeemed              405624 non-null  int64  \n",
      " 9   dollar_cost_points_redeemed  405624 non-null  int64  \n",
      " 10  loyalty_number               405624 non-null  int64  \n",
      " 11  country                      405624 non-null  object \n",
      " 12  province                     405624 non-null  object \n",
      " 13  city                         405624 non-null  object \n",
      " 14  postal_code                  405624 non-null  object \n",
      " 15  gender                       405624 non-null  object \n",
      " 16  education                    405624 non-null  object \n",
      " 17  salary                       302952 non-null  float64\n",
      " 18  marital_status               405624 non-null  object \n",
      " 19  loyalty_card                 405624 non-null  object \n",
      " 20  clv                          405624 non-null  float64\n",
      " 21  enrollment_type              405624 non-null  object \n",
      " 22  enrollment_year              405624 non-null  int64  \n",
      " 23  enrollment_month             405624 non-null  int64  \n",
      " 24  cancellation_year            50064 non-null   float64\n",
      " 25  cancellation_month           50064 non-null   float64\n",
      "dtypes: float64(5), int64(12), object(9)\n",
      "memory usage: 80.5+ MB\n"
     ]
    }
   ],
   "source": [
    "df_atividade.info()"
   ]
  },
  {
   "cell_type": "markdown",
   "metadata": {},
   "source": [
    "5.0 machine learning"
   ]
  },
  {
   "cell_type": "code",
   "execution_count": 21,
   "metadata": {},
   "outputs": [
    {
     "ename": "ModuleNotFoundError",
     "evalue": "No module named 'sklearn'",
     "output_type": "error",
     "traceback": [
      "\u001b[1;31m---------------------------------------------------------------------------\u001b[0m",
      "\u001b[1;31mModuleNotFoundError\u001b[0m                       Traceback (most recent call last)",
      "Cell \u001b[1;32mIn[21], line 1\u001b[0m\n\u001b[1;32m----> 1\u001b[0m \u001b[38;5;28;01mfrom\u001b[39;00m \u001b[38;5;21;01msklearn\u001b[39;00m \u001b[38;5;28;01mimport\u001b[39;00m tree \u001b[38;5;28;01mas\u001b[39;00m tr\n\u001b[0;32m      3\u001b[0m x_atributos \u001b[38;5;241m=\u001b[39mdf_dados_completos\u001b[38;5;241m.\u001b[39mdrop(columns\u001b[38;5;241m=\u001b[39m\u001b[38;5;124m\"\u001b[39m\u001b[38;5;124mloyalty_card\u001b[39m\u001b[38;5;124m\"\u001b[39m)\n\u001b[0;32m      4\u001b[0m y_rotulo \u001b[38;5;241m=\u001b[39m df_dados_completos\u001b[38;5;241m.\u001b[39mloc[:, \u001b[38;5;124m\"\u001b[39m\u001b[38;5;124mloyalty_card\u001b[39m\u001b[38;5;124m\"\u001b[39m]\n",
      "\u001b[1;31mModuleNotFoundError\u001b[0m: No module named 'sklearn'"
     ]
    }
   ],
   "source": [
    "from sklearn import tree as tr\n",
    "\n",
    "x_atributos =df_dados_completos.drop(columns=\"loyalty_card\")\n",
    "y_rotulo = df_dados_completos.loc[:, \"loyalty_card\"]\n",
    "\n",
    "#definicao do algortimo\n",
    "modelo = tr.DecisionTreeClassifier(max_depth=2)\n",
    "\n",
    "#treinamento do algortimo\n",
    "modelo.fit(x_atributos, y_rotulo)"
   ]
  }
 ],
 "metadata": {
  "kernelspec": {
   "display_name": "Python 3",
   "language": "python",
   "name": "python3"
  },
  "language_info": {
   "codemirror_mode": {
    "name": "ipython",
    "version": 3
   },
   "file_extension": ".py",
   "mimetype": "text/x-python",
   "name": "python",
   "nbconvert_exporter": "python",
   "pygments_lexer": "ipython3",
   "version": "3.12.1"
  }
 },
 "nbformat": 4,
 "nbformat_minor": 2
}
